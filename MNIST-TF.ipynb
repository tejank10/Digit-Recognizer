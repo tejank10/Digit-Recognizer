{
 "cells": [
  {
   "cell_type": "code",
   "execution_count": 17,
   "metadata": {
    "collapsed": false,
    "deletable": true,
    "editable": true
   },
   "outputs": [],
   "source": [
    "# This Python 3 environment comes with many helpful analytics libraries installed\n",
    "# It is defined by the kaggle/python docker image: https://github.com/kaggle/docker-python\n",
    "# For example, here's several helpful packages to load in \n",
    "\n",
    "import numpy as np # linear algebra\n",
    "import pandas as pd # data processing, CSV file I/O (e.g. pd.read_csv)\n",
    "import tensorflow as tf\n",
    "# Input data files are available in the \"../input/\" directory.\n",
    "# For example, running this (by clicking run or pressing Shift+Enter) will list the files in the input directory\n",
    "\n",
    "train = pd.read_csv(\"train.csv\")\n",
    "target = train['label']\n",
    "test = pd.read_csv(\"test.csv\")\n",
    "\n",
    "global image \n",
    "global target\n",
    "global test_images\n",
    "\n",
    "image = train.iloc[:, 1:].values\n",
    "image=np.multiply(image, 1.0/255.0)\n",
    "\n",
    "test_images = test.iloc[:, :].values\n",
    "test_images = np.multiply(test_images, 1.0/255.0)\n",
    "# Any results you write to the current directory are saved as output."
   ]
  },
  {
   "cell_type": "code",
   "execution_count": 18,
   "metadata": {
    "collapsed": true,
    "deletable": true,
    "editable": true
   },
   "outputs": [],
   "source": [
    "def dense_to_one_hot(label):\n",
    "    y = np.zeros((label.shape[0], 10))\n",
    "    y[np.arange(label.shape[0]), label] = 1\n",
    "    return y"
   ]
  },
  {
   "cell_type": "code",
   "execution_count": 19,
   "metadata": {
    "collapsed": true,
    "deletable": true,
    "editable": true
   },
   "outputs": [],
   "source": [
    "target = dense_to_one_hot(target)"
   ]
  },
  {
   "cell_type": "code",
   "execution_count": 20,
   "metadata": {
    "collapsed": true,
    "deletable": true,
    "editable": true
   },
   "outputs": [],
   "source": [
    "learning_rate = 0.0001\n",
    "training_iters = 25000\n",
    "batch_size = 100\n",
    "display_step = 1\n",
    "dropout = 0.75\n",
    "n_classes = 10\n",
    "n_input = 784\n",
    "img_width = 28\n",
    "img_height = 28\n",
    "epochs = 0\n"
   ]
  },
  {
   "cell_type": "code",
   "execution_count": 21,
   "metadata": {
    "collapsed": true,
    "deletable": true,
    "editable": true
   },
   "outputs": [],
   "source": [
    "x = tf.placeholder(tf.float32, [None, n_input])\n",
    "y = tf.placeholder(tf.float32, [None, n_classes])\n",
    "keep_prob = tf.placeholder(tf.float32)"
   ]
  },
  {
   "cell_type": "code",
   "execution_count": 22,
   "metadata": {
    "collapsed": true,
    "deletable": true,
    "editable": true
   },
   "outputs": [],
   "source": [
    "def conv2d(x, W, b):\n",
    "    x = tf.nn.conv2d(x, W, strides = [1, 1, 1, 1], padding = 'SAME')\n",
    "    x = tf.nn.bias_add(x, b)\n",
    "    return tf.nn.relu(x)"
   ]
  },
  {
   "cell_type": "code",
   "execution_count": 23,
   "metadata": {
    "collapsed": true,
    "deletable": true,
    "editable": true
   },
   "outputs": [],
   "source": [
    "def max_pool(x):\n",
    "    return tf.nn.max_pool(x, ksize = [1, 2, 2, 1], strides = [1, 2, 2, 1], padding = 'SAME')"
   ]
  },
  {
   "cell_type": "code",
   "execution_count": 24,
   "metadata": {
    "collapsed": true,
    "deletable": true,
    "editable": true
   },
   "outputs": [],
   "source": [
    "def conv_net(x, weights, biases, dropout):\n",
    "    x = tf.reshape(x, shape = [-1, 28, 28, 1])\n",
    "    \n",
    "    conv1 = conv2d(x, weights['wc1'], biases['bc1'])\n",
    "    conv1 = max_pool(conv1)\n",
    "    \n",
    "    conv2 = conv2d(conv1, weights['wc2'], biases['bc2'])\n",
    "    conv2 = max_pool(conv2)\n",
    "    \n",
    "    fc = tf.reshape(conv2, [-1, weights['wd'].get_shape().as_list()[0]])\n",
    "    fc = tf.add(tf.matmul(fc, weights['wd']), biases['bd'])\n",
    "    fc = tf.nn.relu(fc)\n",
    "    \n",
    "    out = tf.add(tf.matmul(fc, weights['out']), biases['out'])\n",
    "    return out"
   ]
  },
  {
   "cell_type": "code",
   "execution_count": 25,
   "metadata": {
    "collapsed": true,
    "deletable": true,
    "editable": true
   },
   "outputs": [],
   "source": [
    "weights = {\n",
    "    'wc1': tf.Variable(tf.random_normal([5, 5, 1, 32])),\n",
    "    'wc2': tf.Variable(tf.random_normal([5, 5, 32, 64])),\n",
    "    'wd' : tf.Variable(tf.random_normal([7*7*64, 1024])),\n",
    "    'out': tf.Variable(tf.random_normal([1024, 10]))\n",
    "}\n",
    "\n",
    "biases = {\n",
    "    'bc1': tf.Variable(tf.random_normal([32])),\n",
    "    'bc2': tf.Variable(tf.random_normal([64])),\n",
    "    'bd' : tf.Variable(tf.random_normal([1024])),\n",
    "    'out': tf.Variable(tf.random_normal([10]))\n",
    "}"
   ]
  },
  {
   "cell_type": "code",
   "execution_count": 42,
   "metadata": {
    "collapsed": false,
    "deletable": true,
    "editable": true
   },
   "outputs": [],
   "source": [
    "pred = conv_net(x, weights, biases, keep_prob)\n",
    "\n",
    "cost = tf.reduce_mean(tf.nn.softmax_cross_entropy_with_logits(labels=y, logits=pred))\n",
    "optimizer = tf.train.AdamOptimizer(learning_rate = learning_rate).minimize(cost)\n",
    "\n",
    "final = tf.equal(tf.argmax(pred, 1), tf.argmax(y, 1))\n",
    "accuracy = tf.reduce_mean(tf.cast(final, tf.float32))\n",
    "\n",
    "predict = tf.argmax(pred, 1)"
   ]
  },
  {
   "cell_type": "code",
   "execution_count": 27,
   "metadata": {
    "collapsed": true,
    "deletable": true,
    "editable": true
   },
   "outputs": [],
   "source": [
    "def next_batch():\n",
    "    global epochs\n",
    "    global start\n",
    "    global image\n",
    "    global target\n",
    "    if (start+1)*batch_size > image.shape[0]:\n",
    "        epochs+=1\n",
    "        temp = np.arange(image.shape[0])\n",
    "        np.random.shuffle(temp)\n",
    "        image = image[temp]\n",
    "        target = target[temp]\n",
    "        start = 0\n",
    "    return image[start*batch_size:(start+1)*batch_size], target[start*batch_size:(start+1)*batch_size]"
   ]
  },
  {
   "cell_type": "code",
   "execution_count": 28,
   "metadata": {
    "collapsed": false,
    "deletable": true,
    "editable": true
   },
   "outputs": [
    {
     "name": "stdout",
     "output_type": "stream",
     "text": [
      "WARNING:tensorflow:From <ipython-input-28-9bea19832d09>:1: initialize_all_variables (from tensorflow.python.ops.variables) is deprecated and will be removed after 2017-03-02.\n",
      "Instructions for updating:\n",
      "Use `tf.global_variables_initializer` instead.\n"
     ]
    }
   ],
   "source": [
    "init = tf.initialize_all_variables()\n",
    "sess = tf.InteractiveSession()\n",
    "sess.run(init)"
   ]
  },
  {
   "cell_type": "code",
   "execution_count": 29,
   "metadata": {
    "collapsed": false,
    "deletable": true,
    "editable": true
   },
   "outputs": [
    {
     "name": "stdout",
     "output_type": "stream",
     "text": [
      "Accuracy: 0.05999999865889549 Step 1 start 1\n",
      "Accuracy: 0.10999999940395355 Step 2 start 2\n",
      "Accuracy: 0.10000000149011612 Step 3 start 3\n",
      "Accuracy: 0.05999999865889549 Step 4 start 4\n",
      "Accuracy: 0.05999999865889549 Step 5 start 5\n",
      "Accuracy: 0.07999999821186066 Step 6 start 6\n",
      "Accuracy: 0.07000000029802322 Step 7 start 7\n",
      "Accuracy: 0.10999999940395355 Step 8 start 8\n",
      "Accuracy: 0.07999999821186066 Step 9 start 9\n",
      "Accuracy: 0.10000000149011612 Step 10 start 10\n",
      "Accuracy: 0.10999999940395355 Step 20 start 20\n",
      "Accuracy: 0.07999999821186066 Step 30 start 30\n",
      "Accuracy: 0.10999999940395355 Step 40 start 40\n",
      "Accuracy: 0.14000000059604645 Step 50 start 50\n",
      "Accuracy: 0.12999999523162842 Step 60 start 60\n",
      "Accuracy: 0.2199999988079071 Step 70 start 70\n",
      "Accuracy: 0.18000000715255737 Step 80 start 80\n",
      "Accuracy: 0.15000000596046448 Step 90 start 90\n",
      "Accuracy: 0.23000000417232513 Step 100 start 100\n",
      "Accuracy: 0.5299999713897705 Step 200 start 200\n",
      "Accuracy: 0.550000011920929 Step 300 start 300\n",
      "Accuracy: 0.7200000286102295 Step 400 start 400\n",
      "Accuracy: 0.7699999809265137 Step 500 start 80\n",
      "Accuracy: 0.75 Step 600 start 180\n",
      "Accuracy: 0.8500000238418579 Step 700 start 280\n",
      "Accuracy: 0.7400000095367432 Step 800 start 380\n",
      "Accuracy: 0.8399999737739563 Step 900 start 60\n",
      "Accuracy: 0.8399999737739563 Step 1000 start 160\n",
      "Accuracy: 0.9200000166893005 Step 2000 start 320\n",
      "Accuracy: 0.9599999785423279 Step 3000 start 60\n",
      "Accuracy: 0.9700000286102295 Step 4000 start 220\n",
      "Accuracy: 0.9900000095367432 Step 5000 start 380\n",
      "Accuracy: 0.9900000095367432 Step 6000 start 120\n",
      "Accuracy: 0.9700000286102295 Step 7000 start 280\n",
      "Accuracy: 0.9900000095367432 Step 8000 start 20\n",
      "Accuracy: 0.9900000095367432 Step 9000 start 180\n",
      "Accuracy: 0.9700000286102295 Step 10000 start 340\n",
      "Accuracy: 1.0 Step 20000 start 260\n",
      "Optimization finished! Epochs: 59\n"
     ]
    }
   ],
   "source": [
    "global start\n",
    "start = 0\n",
    "for i in range(training_iters):\n",
    "    image_next, target_next = next_batch()\n",
    "    start+=1\n",
    "    sess.run(optimizer, feed_dict={x:image_next, y: target_next, keep_prob: dropout})\n",
    "    acc = sess.run(accuracy, feed_dict={x:image_next, y: target_next, keep_prob: 1.0})\n",
    "    if (i+1)%display_step==0:\n",
    "        print(\"Accuracy: {0} Step {1} start {2}\".format(acc, i+1, start))\n",
    "    if i+1==display_step*10:\n",
    "        display_step*=10\n",
    "print(\"Optimization finished! Epochs: {0}\".format(epochs))"
   ]
  },
  {
   "cell_type": "code",
   "execution_count": 43,
   "metadata": {
    "collapsed": false,
    "deletable": true,
    "editable": true
   },
   "outputs": [],
   "source": [
    "predicted = np.zeros(test_images.shape[0])\n",
    "global test_images\n",
    "for i in range(test_images.shape[0]//batch_size):\n",
    "    predicted[i*batch_size: (i+1)*batch_size] = predict.eval(feed_dict={x: test_images[i*batch_size : (i+1)*batch_size], \\\n",
    "                                                                                keep_prob: 1.0})"
   ]
  },
  {
   "cell_type": "code",
   "execution_count": 45,
   "metadata": {
    "collapsed": false,
    "deletable": true,
    "editable": true
   },
   "outputs": [],
   "source": [
    "np.savetxt('submission_softmax.csv', \n",
    "           np.c_[range(1,len(test_images)+1),predicted], \n",
    "           delimiter=',', \n",
    "           header = 'ImageId,Label', \n",
    "           comments = '', \n",
    "           fmt='%d')"
   ]
  },
  {
   "cell_type": "code",
   "execution_count": null,
   "metadata": {
    "collapsed": true
   },
   "outputs": [],
   "source": []
  }
 ],
 "metadata": {
  "anaconda-cloud": {},
  "kernelspec": {
   "display_name": "Python 3",
   "language": "python",
   "name": "python3"
  },
  "language_info": {
   "codemirror_mode": {
    "name": "ipython",
    "version": 3
   },
   "file_extension": ".py",
   "mimetype": "text/x-python",
   "name": "python",
   "nbconvert_exporter": "python",
   "pygments_lexer": "ipython3",
   "version": "3.6.1"
  }
 },
 "nbformat": 4,
 "nbformat_minor": 0
}
